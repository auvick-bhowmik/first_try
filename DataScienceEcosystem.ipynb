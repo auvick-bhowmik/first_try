{
  "metadata": {
    "kernelspec": {
      "name": "python",
      "display_name": "Python (Pyodide)",
      "language": "python"
    },
    "language_info": {
      "codemirror_mode": {
        "name": "python",
        "version": 3
      },
      "file_extension": ".py",
      "mimetype": "text/x-python",
      "name": "python",
      "nbconvert_exporter": "python",
      "pygments_lexer": "ipython3",
      "version": "3.8"
    }
  },
  "nbformat_minor": 5,
  "nbformat": 4,
  "cells": [
    {
      "id": "ec8af7cc-a96d-4e6a-8a41-26a259b78a52",
      "cell_type": "markdown",
      "source": "# Data Science Tools and Ecosystem",
      "metadata": {}
    },
    {
      "id": "d1511319-9856-4c41-bb84-22b26585aee4",
      "cell_type": "markdown",
      "source": "In this notebook, Data Science Tools and Ecosystem are summarized.",
      "metadata": {}
    },
    {
      "id": "70415cb5-00f0-4948-9e90-48414e81451b",
      "cell_type": "markdown",
      "source": "Some of the popular languages that Data Scientists use are:\n1. Python\n2. R\n3. SQL\n4. Scala\n5. Julia",
      "metadata": {}
    },
    {
      "id": "0b1a130f-24ef-4420-af73-bf2220c4f8f2",
      "cell_type": "markdown",
      "source": "**Objectives:**\n- Python\n- R\n- SQL\n- Julia\n- Scala",
      "metadata": {}
    },
    {
      "id": "3a6f0895-1f84-4430-9498-3228301121ba",
      "cell_type": "markdown",
      "source": "Some of the commonly used libraries used by Data Scientists include:\n1. Pandas\n2. Numpy\n3. Matplotlib\n4. Keras\n5. TensorFlow",
      "metadata": {}
    },
    {
      "id": "d9e3c064-ff90-40d5-8eb6-b6d3eff701ce",
      "cell_type": "markdown",
      "source": "|Data Science Tools |\n| ----------------- |\n| Jupyter Notebook |\n| RStudio |\n| VS Code |",
      "metadata": {}
    },
    {
      "id": "50645058-c6f7-4890-8cee-2d5ee42f50d7",
      "cell_type": "markdown",
      "source": "### Below are a few examples of evaluating arithmetic expressions in Python",
      "metadata": {}
    },
    {
      "id": "0c79075d-98aa-46d1-b69b-1cc50e1394fd",
      "cell_type": "code",
      "source": "# This a simple arithmetic expression to mutiply then add integers\n(3*4)+5",
      "metadata": {
        "trusted": true
      },
      "outputs": [
        {
          "execution_count": 3,
          "output_type": "execute_result",
          "data": {
            "text/plain": "17"
          },
          "metadata": {}
        }
      ],
      "execution_count": 3
    },
    {
      "id": "93082365-d4f2-42e0-acbf-84f351d7b24e",
      "cell_type": "code",
      "source": "# This will convert 200 minutes to hours by diving by 60\nminutes = 200\nhours = minutes/60\nprint(hours)",
      "metadata": {
        "trusted": true
      },
      "outputs": [
        {
          "name": "stdout",
          "output_type": "stream",
          "text": "3.3333333333333335\n"
        }
      ],
      "execution_count": 6
    },
    {
      "id": "0f94eb4c-a79d-4812-8859-707d3e18bb77",
      "cell_type": "markdown",
      "source": "## Author\nAuvick Chandra Bhowmik",
      "metadata": {}
    }
  ]
}